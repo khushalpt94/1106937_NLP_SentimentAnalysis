{
  "nbformat": 4,
  "nbformat_minor": 0,
  "metadata": {
    "colab": {
      "name": "nlpsample.ipynb",
      "provenance": [],
      "collapsed_sections": []
    },
    "kernelspec": {
      "name": "python3",
      "display_name": "Python 3"
    },
    "accelerator": "GPU"
  },
  "cells": [
    {
      "cell_type": "code",
      "metadata": {
        "id": "NKoWN9X4Lqsy",
        "colab_type": "code",
        "colab": {}
      },
      "source": [
        "#importing the libraries that will help with the implementation\n",
        "\n",
        "%%capture\n",
        "%pylab inline\n",
        "\n",
        "import warnings\n",
        "warnings.filterwarnings('ignore')\n",
        "import csv\n",
        "import pandas as pd\n",
        "import numpy as np\n",
        "import seaborn as sns\n",
        "from sklearn.feature_extraction.text import TfidfVectorizer,CountVectorizer\n",
        "from sklearn.feature_extraction.stop_words import ENGLISH_STOP_WORDS\n",
        "from sklearn import metrics\n",
        "from sklearn.model_selection import train_test_split\n",
        "import matplotlib.pyplot as plt\n",
        "from sklearn.model_selection import cross_val_score\n",
        "from sklearn.svm import SVC\n",
        "from sklearn.linear_model import LogisticRegression\n",
        "from sklearn.naive_bayes import MultinomialNB\n",
        "from os import path\n",
        "from PIL import Image\n",
        "from wordcloud import WordCloud, STOPWORDS, ImageColorGenerator\n",
        "\n",
        "import pandas as pd\n",
        "\n",
        "import seaborn as sns\n",
        "sns.set(style=\"white\", rc={\"axes.facecolor\": (0, 0, 0, 0)})\n",
        "\n",
        "from wordcloud import WordCloud, STOPWORDS\n",
        "from collections import Counter\n",
        "\n",
        "np.random.seed(10)\n",
        "\n",
        "from keras.utils import to_categorical\n",
        "import random\n",
        "from tensorflow import set_random_seed\n",
        "from sklearn.model_selection import train_test_split\n",
        "from keras.preprocessing import sequence\n",
        "from keras.preprocessing.text import Tokenizer\n",
        "from keras.layers import Dense,Dropout,Embedding,LSTM\n",
        "from keras.callbacks import EarlyStopping\n",
        "from keras.losses import categorical_crossentropy\n",
        "from keras.optimizers import Adam\n",
        "from keras.models import Sequential\n",
        "\n",
        "#set random seed for the session and also for tensorflow that runs in background for keras\n",
        "set_random_seed(123)\n",
        "random.seed(123)"
      ],
      "execution_count": 0,
      "outputs": []
    },
    {
      "cell_type": "code",
      "metadata": {
        "id": "ZLnhJItPMVYb",
        "colab_type": "code",
        "colab": {}
      },
      "source": [
        "#Read the data from the link provided\n",
        "\n",
        "URL_Tr ='https://raw.githubusercontent.com/cacoderquan/Sentiment-Analysis-on-the-Rotten-Tomatoes-movie-review-dataset/master/train.tsv'\n",
        "\n",
        "df = pd.read_csv(URL_Tr,sep='\\t')\n"
      ],
      "execution_count": 0,
      "outputs": []
    },
    {
      "cell_type": "code",
      "metadata": {
        "id": "iFWPnYrINUOX",
        "colab_type": "code",
        "outputId": "164e33ce-91d9-48ee-b933-740530921808",
        "colab": {
          "base_uri": "https://localhost:8080/",
          "height": 106
        }
      },
      "source": [
        "df.count()"
      ],
      "execution_count": 101,
      "outputs": [
        {
          "output_type": "execute_result",
          "data": {
            "text/plain": [
              "PhraseId      156060\n",
              "SentenceId    156060\n",
              "Phrase        156060\n",
              "Sentiment     156060\n",
              "dtype: int64"
            ]
          },
          "metadata": {
            "tags": []
          },
          "execution_count": 101
        }
      ]
    },
    {
      "cell_type": "code",
      "metadata": {
        "id": "ciRN6W5NMXjK",
        "colab_type": "code",
        "outputId": "dfcdb430-85ed-420f-80c8-f63514211f49",
        "colab": {
          "base_uri": "https://localhost:8080/",
          "height": 35
        }
      },
      "source": [
        "#total number of sentences\n",
        "\n",
        "print('Total number of sentences : ' , len(df.SentenceId.unique()))\n"
      ],
      "execution_count": 102,
      "outputs": [
        {
          "output_type": "stream",
          "text": [
            "Total number of sentences :  8529\n"
          ],
          "name": "stdout"
        }
      ]
    },
    {
      "cell_type": "code",
      "metadata": {
        "id": "DLWGKATbwOe_",
        "colab_type": "code",
        "outputId": "5053764c-e631-4d9a-d831-ee4a1c8d2660",
        "colab": {
          "base_uri": "https://localhost:8080/",
          "height": 356
        }
      },
      "source": [
        "df.plot.scatter(x='PhraseId', y='SentenceId', title='Dataset')\n"
      ],
      "execution_count": 103,
      "outputs": [
        {
          "output_type": "stream",
          "text": [
            "'c' argument looks like a single numeric RGB or RGBA sequence, which should be avoided as value-mapping will have precedence in case its length matches with 'x' & 'y'.  Please use a 2-D array with a single row if you really want to specify the same RGB or RGBA value for all points.\n"
          ],
          "name": "stderr"
        },
        {
          "output_type": "execute_result",
          "data": {
            "text/plain": [
              "<matplotlib.axes._subplots.AxesSubplot at 0x7fde4ef97128>"
            ]
          },
          "metadata": {
            "tags": []
          },
          "execution_count": 103
        },
        {
          "output_type": "display_data",
          "data": {
            "image/png": "[encoded data removed]",
            "text/plain": [
              "<Figure size 432x288 with 1 Axes>"
            ]
          },
          "metadata": {
            "tags": []
          }
        }
      ]
    },
    {
      "cell_type": "code",
      "metadata": {
        "id": "6vRxaZMMT7fC",
        "colab_type": "code",
        "outputId": "84ab7102-1183-4b5e-d229-452984b5d30e",
        "colab": {
          "base_uri": "https://localhost:8080/",
          "height": 217
        }
      },
      "source": [
        "# getting full sentences from the dataset\n",
        "fullSent = df.loc[df.groupby('SentenceId')['PhraseId'].idxmin()]\n",
        "\n",
        "fullSent.head()"
      ],
      "execution_count": 104,
      "outputs": [
        {
          "output_type": "execute_result",
          "data": {
            "text/html": [
              "<div>\n",
              "<style scoped>\n",
              "    .dataframe tbody tr th:only-of-type {\n",
              "        vertical-align: middle;\n",
              "    }\n",
              "\n",
              "    .dataframe tbody tr th {\n",
              "        vertical-align: top;\n",
              "    }\n",
              "\n",
              "    .dataframe thead th {\n",
              "        text-align: right;\n",
              "    }\n",
              "</style>\n",
              "<table border=\"1\" class=\"dataframe\">\n",
              "  <thead>\n",
              "    <tr style=\"text-align: right;\">\n",
              "      <th></th>\n",
              "      <th>PhraseId</th>\n",
              "      <th>SentenceId</th>\n",
              "      <th>Phrase</th>\n",
              "      <th>Sentiment</th>\n",
              "    </tr>\n",
              "  </thead>\n",
              "  <tbody>\n",
              "    <tr>\n",
              "      <th>0</th>\n",
              "      <td>1</td>\n",
              "      <td>1</td>\n",
              "      <td>A series of escapades demonstrating the adage that what is good for the goose is also good for the gander , some of which occasionally amuses but none of which amounts to much of a story .</td>\n",
              "      <td>1</td>\n",
              "    </tr>\n",
              "    <tr>\n",
              "      <th>63</th>\n",
              "      <td>64</td>\n",
              "      <td>2</td>\n",
              "      <td>This quiet , introspective and entertaining independent is worth seeking .</td>\n",
              "      <td>4</td>\n",
              "    </tr>\n",
              "    <tr>\n",
              "      <th>81</th>\n",
              "      <td>82</td>\n",
              "      <td>3</td>\n",
              "      <td>Even fans of Ismail Merchant 's work , I suspect , would have a hard time sitting through this one .</td>\n",
              "      <td>1</td>\n",
              "    </tr>\n",
              "    <tr>\n",
              "      <th>116</th>\n",
              "      <td>117</td>\n",
              "      <td>4</td>\n",
              "      <td>A positively thrilling combination of ethnography and all the intrigue , betrayal , deceit and murder of a Shakespearean tragedy or a juicy soap opera .</td>\n",
              "      <td>3</td>\n",
              "    </tr>\n",
              "    <tr>\n",
              "      <th>156</th>\n",
              "      <td>157</td>\n",
              "      <td>5</td>\n",
              "      <td>Aggressive self-glorification and a manipulative whitewash .</td>\n",
              "      <td>1</td>\n",
              "    </tr>\n",
              "  </tbody>\n",
              "</table>\n",
              "</div>"
            ],
            "text/plain": [
              "     PhraseId  ...  Sentiment\n",
              "0           1  ...          1\n",
              "63         64  ...          4\n",
              "81         82  ...          1\n",
              "116       117  ...          3\n",
              "156       157  ...          1\n",
              "\n",
              "[5 rows x 4 columns]"
            ]
          },
          "metadata": {
            "tags": []
          },
          "execution_count": 104
        }
      ]
    },
    {
      "cell_type": "code",
      "metadata": {
        "id": "Vmg1mD-idPCz",
        "colab_type": "code",
        "outputId": "228d4ffa-497f-4feb-e5a0-36cfcd5cfe05",
        "colab": {
          "base_uri": "https://localhost:8080/",
          "height": 428
        }
      },
      "source": [
        "first_df = st_df = df.groupby('SentenceId' , as_index = False).first()\n",
        "first_df"
      ],
      "execution_count": 105,
      "outputs": [
        {
          "output_type": "execute_result",
          "data": {
            "text/html": [
              "<div>\n",
              "<style scoped>\n",
              "    .dataframe tbody tr th:only-of-type {\n",
              "        vertical-align: middle;\n",
              "    }\n",
              "\n",
              "    .dataframe tbody tr th {\n",
              "        vertical-align: top;\n",
              "    }\n",
              "\n",
              "    .dataframe thead th {\n",
              "        text-align: right;\n",
              "    }\n",
              "</style>\n",
              "<table border=\"1\" class=\"dataframe\">\n",
              "  <thead>\n",
              "    <tr style=\"text-align: right;\">\n",
              "      <th></th>\n",
              "      <th>SentenceId</th>\n",
              "      <th>PhraseId</th>\n",
              "      <th>Phrase</th>\n",
              "      <th>Sentiment</th>\n",
              "    </tr>\n",
              "  </thead>\n",
              "  <tbody>\n",
              "    <tr>\n",
              "      <th>0</th>\n",
              "      <td>1</td>\n",
              "      <td>1</td>\n",
              "      <td>A series of escapades demonstrating the adage that what is good for the goose is also good for the gander , some of which occasionally amuses but none of which amounts to much of a story .</td>\n",
              "      <td>1</td>\n",
              "    </tr>\n",
              "    <tr>\n",
              "      <th>1</th>\n",
              "      <td>2</td>\n",
              "      <td>64</td>\n",
              "      <td>This quiet , introspective and entertaining independent is worth seeking .</td>\n",
              "      <td>4</td>\n",
              "    </tr>\n",
              "    <tr>\n",
              "      <th>2</th>\n",
              "      <td>3</td>\n",
              "      <td>82</td>\n",
              "      <td>Even fans of Ismail Merchant 's work , I suspect , would have a hard time sitting through this one .</td>\n",
              "      <td>1</td>\n",
              "    </tr>\n",
              "    <tr>\n",
              "      <th>3</th>\n",
              "      <td>4</td>\n",
              "      <td>117</td>\n",
              "      <td>A positively thrilling combination of ethnography and all the intrigue , betrayal , deceit and murder of a Shakespearean tragedy or a juicy soap opera .</td>\n",
              "      <td>3</td>\n",
              "    </tr>\n",
              "    <tr>\n",
              "      <th>4</th>\n",
              "      <td>5</td>\n",
              "      <td>157</td>\n",
              "      <td>Aggressive self-glorification and a manipulative whitewash .</td>\n",
              "      <td>1</td>\n",
              "    </tr>\n",
              "    <tr>\n",
              "      <th>...</th>\n",
              "      <td>...</td>\n",
              "      <td>...</td>\n",
              "      <td>...</td>\n",
              "      <td>...</td>\n",
              "    </tr>\n",
              "    <tr>\n",
              "      <th>8524</th>\n",
              "      <td>8540</td>\n",
              "      <td>155985</td>\n",
              "      <td>... either you 're willing to go with this claustrophobic concept or you 're not .</td>\n",
              "      <td>2</td>\n",
              "    </tr>\n",
              "    <tr>\n",
              "      <th>8525</th>\n",
              "      <td>8541</td>\n",
              "      <td>155998</td>\n",
              "      <td>Despite these annoyances , the capable Clayburgh and Tambor really do a great job of anchoring the characters in the emotional realities of middle age .</td>\n",
              "      <td>2</td>\n",
              "    </tr>\n",
              "    <tr>\n",
              "      <th>8526</th>\n",
              "      <td>8542</td>\n",
              "      <td>156022</td>\n",
              "      <td>-LRB- Tries -RRB- to parody a genre that 's already a joke in the United States .</td>\n",
              "      <td>1</td>\n",
              "    </tr>\n",
              "    <tr>\n",
              "      <th>8527</th>\n",
              "      <td>8543</td>\n",
              "      <td>156032</td>\n",
              "      <td>The movie 's downfall is to substitute plot for personality .</td>\n",
              "      <td>1</td>\n",
              "    </tr>\n",
              "    <tr>\n",
              "      <th>8528</th>\n",
              "      <td>8544</td>\n",
              "      <td>156040</td>\n",
              "      <td>The film is darkly atmospheric , with Herrmann quietly suggesting the sadness and obsession beneath Hearst 's forced avuncular chortles .</td>\n",
              "      <td>2</td>\n",
              "    </tr>\n",
              "  </tbody>\n",
              "</table>\n",
              "<p>8529 rows × 4 columns</p>\n",
              "</div>"
            ],
            "text/plain": [
              "      SentenceId  ...  Sentiment\n",
              "0              1  ...          1\n",
              "1              2  ...          4\n",
              "2              3  ...          1\n",
              "3              4  ...          3\n",
              "4              5  ...          1\n",
              "...          ...  ...        ...\n",
              "8524        8540  ...          2\n",
              "8525        8541  ...          2\n",
              "8526        8542  ...          1\n",
              "8527        8543  ...          1\n",
              "8528        8544  ...          2\n",
              "\n",
              "[8529 rows x 4 columns]"
            ]
          },
          "metadata": {
            "tags": []
          },
          "execution_count": 105
        }
      ]
    },
    {
      "cell_type": "code",
      "metadata": {
        "id": "RLby69S3UCbk",
        "colab_type": "code",
        "outputId": "36ebf79d-8d05-4ff2-e576-966b5fa602c8",
        "colab": {
          "base_uri": "https://localhost:8080/",
          "height": 502
        }
      },
      "source": [
        "#Depicting the bar plot of most data per sentiment\n",
        "distance = df.groupby([\"Sentiment\"]).size()\n",
        "distance = distance / distance.sum()\n",
        "fig, ax = plt.subplots(figsize=(12,8))\n",
        "sns.barplot(distance.keys(), distance.values);\n",
        "fig.savefig('before.png')"
      ],
      "execution_count": 106,
      "outputs": [
        {
          "output_type": "display_data",
          "data": {
            "image/png": "[encoded data removed]",
            "text/plain": [
              "<Figure size 864x576 with 1 Axes>"
            ]
          },
          "metadata": {
            "tags": []
          }
        }
      ]
    },
    {
      "cell_type": "code",
      "metadata": {
        "id": "4aKajSpMdU64",
        "colab_type": "code",
        "outputId": "c2599708-720b-4f26-cf2d-5026d0690ac9",
        "colab": {
          "base_uri": "https://localhost:8080/",
          "height": 502
        }
      },
      "source": [
        "#depiction of full sentences per sentiments \n",
        "distance = first_df.groupby([\"Sentiment\"]).size()\n",
        "distance = distance / distance.sum()\n",
        "fig, ax = plt.subplots(figsize=(12,8))\n",
        "sns.barplot(distance.keys(), distance.values);\n",
        "fig.savefig('AfterGraph.png')"
      ],
      "execution_count": 107,
      "outputs": [
        {
          "output_type": "display_data",
          "data": {
            "image/png": "[encoded data removed]",
            "text/plain": [
              "<Figure size 864x576 with 1 Axes>"
            ]
          },
          "metadata": {
            "tags": []
          }
        }
      ]
    },
    {
      "cell_type": "code",
      "metadata": {
        "id": "8w5RiRULUJTw",
        "colab_type": "code",
        "outputId": "1496d02e-026c-4f16-e77f-9dd6e8ef258b",
        "colab": {
          "base_uri": "https://localhost:8080/",
          "height": 198
        }
      },
      "source": [
        "# Start with one review:\n",
        "text = df.Phrase[0]\n",
        "\n",
        "# Create and generate a word cloud image:\n",
        "wordcloud = WordCloud().generate(text)\n",
        "\n",
        "# Display the generated image:\n",
        "plt.imshow(wordcloud, interpolation='bilinear')\n",
        "plt.axis(\"off\")\n",
        "plt.show()"
      ],
      "execution_count": 108,
      "outputs": [
        {
          "output_type": "display_data",
          "data": {
            "image/png": "[encoded data removed]",
            "text/plain": [
              "<Figure size 432x288 with 1 Axes>"
            ]
          },
          "metadata": {
            "tags": []
          }
        }
      ]
    },
    {
      "cell_type": "code",
      "metadata": {
        "id": "OSIRgVl-UOhd",
        "colab_type": "code",
        "outputId": "5aa15d6b-3110-4553-8642-c7235d0082db",
        "colab": {
          "base_uri": "https://localhost:8080/",
          "height": 55
        }
      },
      "source": [
        "#downloading the stop words for english language\n",
        "StopWords = ENGLISH_STOP_WORDS\n",
        "print(StopWords)"
      ],
      "execution_count": 109,
      "outputs": [
        {
          "output_type": "stream",
          "text": [
            "frozenset({'itself', 'my', 'describe', 'off', 'nevertheless', 'too', 'whither', 'elsewhere', 'once', 'fire', 'system', 'am', 'ltd', 'here', 'everyone', 'thereafter', 'myself', 'this', 'now', 'who', 'twelve', 'on', 'herein', 'inc', 'serious', 'another', 'himself', 'nothing', 'almost', 'without', 'put', 'move', 'beyond', 'indeed', 'how', 'per', 'so', 'towards', 'done', 'fifty', 'anything', 'and', 'take', 'ourselves', 'amongst', 'anywhere', 'her', 'keep', 'seem', 'thereupon', 'when', 'anyway', 'could', 'however', 'six', 'former', 'it', 'they', 'where', 'herself', 'most', 'can', 'had', 'interest', 'moreover', 'someone', 'each', 'couldnt', 'hereby', 'con', 'nowhere', 'all', 'except', 'thru', 'were', 'every', 'de', 'eg', 'whereby', 'then', 'hereupon', 'found', 'name', 'bottom', 'our', 'sincere', 'enough', 'their', 'many', 'those', 'since', 'nine', 'twenty', 'hundred', 'somehow', 'down', 'among', 'afterwards', 'onto', 'up', 'same', 'fifteen', 'than', 'over', 'whence', 'beside', 'see', 'well', 'yet', 'side', 're', 'thereby', 'part', 'somewhere', 'toward', 'further', 'together', 'last', 'must', 'again', 'although', 'cry', 'or', 'until', 'wherein', 'therefore', 'either', 'what', 'whereas', 'whom', 'two', 'already', 'anyone', 'me', 'but', 'show', 'themselves', 'do', 'forty', 'get', 'very', 'etc', 'his', 'no', 'hasnt', 'along', 'amoungst', 'its', 'has', 'three', 'un', 'first', 'find', 'yourself', 'co', 'there', 'after', 'yours', 'becoming', 'top', 'ours', 'mill', 'become', 'latter', 'out', 'made', 'full', 'seems', 'cant', 'one', 'go', 'whole', 'would', 'why', 'noone', 'mostly', 'least', 'please', 'hereafter', 'should', 'sixty', 'such', 'though', 'thus', 'others', 'whoever', 'any', 'been', 'throughout', 'your', 'yourselves', 'everything', 'are', 'sometimes', 'because', 'bill', 'that', 'whose', 'to', 'while', 'still', 'is', 'thin', 'across', 'he', 'she', 'we', 'which', 'hers', 'thence', 'you', 'might', 'five', 'in', 'below', 'about', 'ten', 'back', 'cannot', 'detail', 'neither', 'none', 'sometime', 'for', 'therein', 'us', 'whereupon', 'will', 'under', 'between', 'four', 'also', 'be', 'fill', 'latterly', 'ever', 'rather', 'everywhere', 'became', 'third', 'only', 'besides', 'eleven', 'against', 'may', 'both', 'mine', 'before', 'some', 'around', 'via', 'call', 'other', 'alone', 'him', 'otherwise', 'was', 'during', 'as', 'formerly', 'perhaps', 'them', 'seemed', 'an', 'above', 'whenever', 'empty', 'the', 'if', 'upon', 'whatever', 'of', 'with', 'within', 'beforehand', 'from', 'not', 'less', 'namely', 'these', 'meanwhile', 'ie', 'i', 'much', 'behind', 'into', 'a', 'always', 'amount', 'through', 'more', 'thick', 'few', 'eight', 'anyhow', 'being', 'wherever', 'something', 'by', 'own', 'seeming', 'often', 'even', 'front', 'at', 'never', 'whether', 'give', 'whereafter', 'hence', 'nor', 'nobody', 'due', 'becomes', 'next', 'have', 'several', 'else'})\n"
          ],
          "name": "stdout"
        }
      ]
    },
    {
      "cell_type": "code",
      "metadata": {
        "id": "RTHN8ah_UU7n",
        "colab_type": "code",
        "outputId": "9e8f39b5-83a2-45c4-9d41-0450f6c98c7d",
        "colab": {
          "base_uri": "https://localhost:8080/",
          "height": 35
        }
      },
      "source": [
        "text = \" \".join(review for review in df.Phrase)\n",
        "print (\"There are {} words in the combination of all review.\".format(len(text)))"
      ],
      "execution_count": 110,
      "outputs": [
        {
          "output_type": "stream",
          "text": [
            "There are 6432359 words in the combination of all review.\n"
          ],
          "name": "stdout"
        }
      ]
    },
    {
      "cell_type": "code",
      "metadata": {
        "id": "XTNjTIfBUcXK",
        "colab_type": "code",
        "outputId": "574a1764-23ee-4685-9283-b0f45a222114",
        "colab": {
          "base_uri": "https://localhost:8080/",
          "height": 215
        }
      },
      "source": [
        "# Create stopword list:\n",
        "stopwords = set(StopWords)\n",
        "stopwords.update([\"drink\", \"now\", \"wine\", \"flavor\", \"flavors\"])\n",
        "\n",
        "# Generating a word cloud image\n",
        "wordcloud = WordCloud(stopwords=stopwords, background_color=\"white\").generate(text)\n",
        "\n",
        "# Display the generated image:\n",
        "# the matplotlib way:\n",
        "plt.imshow(wordcloud, interpolation='bilinear')\n",
        "plt.axis(\"off\")\n",
        "plt.show()\n",
        "plt.savefig('wordcloud.png')"
      ],
      "execution_count": 111,
      "outputs": [
        {
          "output_type": "display_data",
          "data": {
            "image/png": "[encoded data removed]",
            "text/plain": [
              "<Figure size 432x288 with 1 Axes>"
            ]
          },
          "metadata": {
            "tags": []
          }
        },
        {
          "output_type": "display_data",
          "data": {
            "text/plain": [
              "<Figure size 432x288 with 0 Axes>"
            ]
          },
          "metadata": {
            "tags": []
          }
        }
      ]
    },
    {
      "cell_type": "code",
      "metadata": {
        "id": "cflfIOH3UfRN",
        "colab_type": "code",
        "outputId": "1490c3ee-3b6a-46bb-9395-274439dff2e7",
        "colab": {
          "base_uri": "https://localhost:8080/",
          "height": 266
        }
      },
      "source": [
        "#Performing Bag of word for the dataset\n",
        "BOW_Vectorizer = CountVectorizer(strip_accents='unicode',\n",
        "                                 stop_words=StopWords,\n",
        "                                 ngram_range=(1,3),\n",
        "                                 analyzer='word',\n",
        "                                 min_df=5,\n",
        "                                 max_df=0.5)\n",
        "\n",
        "BOW_Vectorizer.fit(list(fullSent['Phrase']))"
      ],
      "execution_count": 112,
      "outputs": [
        {
          "output_type": "execute_result",
          "data": {
            "text/plain": [
              "CountVectorizer(analyzer='word', binary=False, decode_error='strict',\n",
              "                dtype=<class 'numpy.int64'>, encoding='utf-8', input='content',\n",
              "                lowercase=True, max_df=0.5, max_features=None, min_df=5,\n",
              "                ngram_range=(1, 3), preprocessor=None,\n",
              "                stop_words=frozenset({'a', 'about', 'above', 'across', 'after',\n",
              "                                      'afterwards', 'again', 'against', 'all',\n",
              "                                      'almost', 'alone', 'along', 'already',\n",
              "                                      'also', 'although', 'always', 'am',\n",
              "                                      'among', 'amongst', 'amoungst', 'amount',\n",
              "                                      'an', 'and', 'another', 'any', 'anyhow',\n",
              "                                      'anyone', 'anything', 'anyway',\n",
              "                                      'anywhere', ...}),\n",
              "                strip_accents='unicode', token_pattern='(?u)\\\\b\\\\w\\\\w+\\\\b',\n",
              "                tokenizer=None, vocabulary=None)"
            ]
          },
          "metadata": {
            "tags": []
          },
          "execution_count": 112
        }
      ]
    },
    {
      "cell_type": "code",
      "metadata": {
        "id": "0Omu8gAnUg-B",
        "colab_type": "code",
        "outputId": "771eb734-5bf0-44e8-bb5c-5f398bf3601c",
        "colab": {
          "base_uri": "https://localhost:8080/",
          "height": 301
        }
      },
      "source": [
        "#create tfidf vectorizer \n",
        "tfidf_vectorizer = TfidfVectorizer(min_df=5,\n",
        "                                 max_df=5,\n",
        "                                  analyzer='word',\n",
        "                                  strip_accents='unicode',\n",
        "                                  ngram_range=(1,3),\n",
        "                                  sublinear_tf=True,\n",
        "                                  smooth_idf=True,\n",
        "                                  use_idf=True,\n",
        "                                  stop_words=StopWords)\n",
        "\n",
        "tfidf_vectorizer.fit(list(fullSent['Phrase']))"
      ],
      "execution_count": 113,
      "outputs": [
        {
          "output_type": "execute_result",
          "data": {
            "text/plain": [
              "TfidfVectorizer(analyzer='word', binary=False, decode_error='strict',\n",
              "                dtype=<class 'numpy.float64'>, encoding='utf-8',\n",
              "                input='content', lowercase=True, max_df=5, max_features=None,\n",
              "                min_df=5, ngram_range=(1, 3), norm='l2', preprocessor=None,\n",
              "                smooth_idf=True,\n",
              "                stop_words=frozenset({'a', 'about', 'above', 'across', 'after',\n",
              "                                      'afterwards', 'again', 'against', 'all',\n",
              "                                      'almost', 'alone', 'along', 'already',\n",
              "                                      'also', 'although', 'always', 'am',\n",
              "                                      'among', 'amongst', 'amoungst', 'amount',\n",
              "                                      'an', 'and', 'another', 'any', 'anyhow',\n",
              "                                      'anyone', 'anything', 'anyway',\n",
              "                                      'anywhere', ...}),\n",
              "                strip_accents='unicode', sublinear_tf=True,\n",
              "                token_pattern='(?u)\\\\b\\\\w\\\\w+\\\\b', tokenizer=None, use_idf=True,\n",
              "                vocabulary=None)"
            ]
          },
          "metadata": {
            "tags": []
          },
          "execution_count": 113
        }
      ]
    },
    {
      "cell_type": "code",
      "metadata": {
        "id": "ChpaoEiJUlRC",
        "colab_type": "code",
        "outputId": "5136b8de-f4ff-41a8-dfa5-5eade0a52ca3",
        "colab": {
          "base_uri": "https://localhost:8080/",
          "height": 72
        }
      },
      "source": [
        "#tfid\n",
        "#build train dataset\n",
        "phrase = fullSent['Phrase']\n",
        "sentiment = fullSent['Sentiment']\n",
        "phrase[0], sentiment[0]"
      ],
      "execution_count": 114,
      "outputs": [
        {
          "output_type": "execute_result",
          "data": {
            "text/plain": [
              "('A series of escapades demonstrating the adage that what is good for the goose is also good for the gander , some of which occasionally amuses but none of which amounts to much of a story .',\n",
              " 1)"
            ]
          },
          "metadata": {
            "tags": []
          },
          "execution_count": 114
        }
      ]
    },
    {
      "cell_type": "code",
      "metadata": {
        "id": "TJk5ApA9dqG2",
        "colab_type": "code",
        "colab": {}
      },
      "source": [
        "#performing the cleansing operation on the dataset using lemmatizer from WordNetLemmatizer and SnowBallStemmer\n",
        "from nltk.tokenize import word_tokenize\n",
        "from nltk import FreqDist\n",
        "from nltk.stem import SnowballStemmer,WordNetLemmatizer\n",
        "stemmer=SnowballStemmer('english')\n",
        "lemma=WordNetLemmatizer()\n",
        "from string import punctuation\n",
        "import re"
      ],
      "execution_count": 0,
      "outputs": []
    },
    {
      "cell_type": "code",
      "metadata": {
        "id": "YbAmxO3Pdp70",
        "colab_type": "code",
        "colab": {}
      },
      "source": [
        "def phrase_clean(review_col):\n",
        "    review_corpus=[]\n",
        "    for i in range(0,len(review_col)):\n",
        "        review=str(review_col[i])\n",
        "        review=re.sub('[^a-zA-Z]',' ',review)\n",
        "        \n",
        "        review=[lemma.lemmatize(w) for w in word_tokenize(str(review).lower())]\n",
        "        review=' '.join(review)\n",
        "        review_corpus.append(review)\n",
        "    return review_corpus"
      ],
      "execution_count": 0,
      "outputs": []
    },
    {
      "cell_type": "code",
      "metadata": {
        "id": "-NaBunB2dzmm",
        "colab_type": "code",
        "outputId": "19889b82-f879-45de-931a-d0416d5a30d6",
        "colab": {
          "base_uri": "https://localhost:8080/",
          "height": 88
        }
      },
      "source": [
        "import nltk\n",
        "nltk.download('punkt')\n",
        "nltk.download('wordnet')\n",
        "df['phrase_clean']=phrase_clean(df.Phrase.values)"
      ],
      "execution_count": 117,
      "outputs": [
        {
          "output_type": "stream",
          "text": [
            "[nltk_data] Downloading package punkt to /root/nltk_data...\n",
            "[nltk_data]   Package punkt is already up-to-date!\n",
            "[nltk_data] Downloading package wordnet to /root/nltk_data...\n",
            "[nltk_data]   Package wordnet is already up-to-date!\n"
          ],
          "name": "stdout"
        }
      ]
    },
    {
      "cell_type": "code",
      "metadata": {
        "id": "4-TJ6PuXeGEs",
        "colab_type": "code",
        "outputId": "0f0fbae4-03d6-4ba0-8419-ef2d21f760d1",
        "colab": {
          "base_uri": "https://localhost:8080/",
          "height": 251
        }
      },
      "source": [
        "df.head()"
      ],
      "execution_count": 118,
      "outputs": [
        {
          "output_type": "execute_result",
          "data": {
            "text/html": [
              "<div>\n",
              "<style scoped>\n",
              "    .dataframe tbody tr th:only-of-type {\n",
              "        vertical-align: middle;\n",
              "    }\n",
              "\n",
              "    .dataframe tbody tr th {\n",
              "        vertical-align: top;\n",
              "    }\n",
              "\n",
              "    .dataframe thead th {\n",
              "        text-align: right;\n",
              "    }\n",
              "</style>\n",
              "<table border=\"1\" class=\"dataframe\">\n",
              "  <thead>\n",
              "    <tr style=\"text-align: right;\">\n",
              "      <th></th>\n",
              "      <th>PhraseId</th>\n",
              "      <th>SentenceId</th>\n",
              "      <th>Phrase</th>\n",
              "      <th>Sentiment</th>\n",
              "      <th>phrase_clean</th>\n",
              "    </tr>\n",
              "  </thead>\n",
              "  <tbody>\n",
              "    <tr>\n",
              "      <th>0</th>\n",
              "      <td>1</td>\n",
              "      <td>1</td>\n",
              "      <td>A series of escapades demonstrating the adage that what is good for the goose is also good for the gander , some of which occasionally amuses but none of which amounts to much of a story .</td>\n",
              "      <td>1</td>\n",
              "      <td>a series of escapade demonstrating the adage that what is good for the goose is also good for the gander some of which occasionally amuses but none of which amount to much of a story</td>\n",
              "    </tr>\n",
              "    <tr>\n",
              "      <th>1</th>\n",
              "      <td>2</td>\n",
              "      <td>1</td>\n",
              "      <td>A series of escapades demonstrating the adage that what is good for the goose</td>\n",
              "      <td>2</td>\n",
              "      <td>a series of escapade demonstrating the adage that what is good for the goose</td>\n",
              "    </tr>\n",
              "    <tr>\n",
              "      <th>2</th>\n",
              "      <td>3</td>\n",
              "      <td>1</td>\n",
              "      <td>A series</td>\n",
              "      <td>2</td>\n",
              "      <td>a series</td>\n",
              "    </tr>\n",
              "    <tr>\n",
              "      <th>3</th>\n",
              "      <td>4</td>\n",
              "      <td>1</td>\n",
              "      <td>A</td>\n",
              "      <td>2</td>\n",
              "      <td>a</td>\n",
              "    </tr>\n",
              "    <tr>\n",
              "      <th>4</th>\n",
              "      <td>5</td>\n",
              "      <td>1</td>\n",
              "      <td>series</td>\n",
              "      <td>2</td>\n",
              "      <td>series</td>\n",
              "    </tr>\n",
              "  </tbody>\n",
              "</table>\n",
              "</div>"
            ],
            "text/plain": [
              "   PhraseId  ...                                                                                                                                                                            phrase_clean\n",
              "0         1  ...  a series of escapade demonstrating the adage that what is good for the goose is also good for the gander some of which occasionally amuses but none of which amount to much of a story\n",
              "1         2  ...                                                                                                            a series of escapade demonstrating the adage that what is good for the goose\n",
              "2         3  ...                                                                                                                                                                                a series\n",
              "3         4  ...                                                                                                                                                                                       a\n",
              "4         5  ...                                                                                                                                                                                  series\n",
              "\n",
              "[5 rows x 5 columns]"
            ]
          },
          "metadata": {
            "tags": []
          },
          "execution_count": 118
        }
      ]
    },
    {
      "cell_type": "code",
      "metadata": {
        "id": "0nMvan9co4w0",
        "colab_type": "code",
        "colab": {}
      },
      "source": [
        "from sklearn.utils import resample\n",
        "new_2 = df[df['Sentiment']==2]\n",
        "new_1 = df[df['Sentiment']==1]\n",
        "new_3 = df[df['Sentiment']==3]\n",
        "new_4 = df[df['Sentiment']==4]\n",
        "new_5 = df[df['Sentiment']==0]\n",
        "new_2_sample = resample(new_2,replace=True,n_samples=75000,random_state=2003)\n",
        "new_1_sample = resample(new_1,replace=True,n_samples=75000,random_state=2003)\n",
        "new_3_sample = resample(new_3,replace=True,n_samples=75000,random_state=2003)\n",
        "new_4_sample = resample(new_4,replace=True,n_samples=75000,random_state=2003)\n",
        "new_5_sample = resample(new_5,replace=True,n_samples=75000,random_state=2003)\n",
        "\n",
        "df_upsampled = pd.concat([new_2, new_1_sample,new_3_sample,new_4_sample,new_5_sample])"
      ],
      "execution_count": 0,
      "outputs": []
    },
    {
      "cell_type": "code",
      "metadata": {
        "id": "hsbJFROMebjo",
        "colab_type": "code",
        "outputId": "0e748675-1379-4154-e246-6f2b8e2c5b57",
        "colab": {
          "base_uri": "https://localhost:8080/",
          "height": 200
        }
      },
      "source": [
        "df_upsampled.head()"
      ],
      "execution_count": 120,
      "outputs": [
        {
          "output_type": "execute_result",
          "data": {
            "text/html": [
              "<div>\n",
              "<style scoped>\n",
              "    .dataframe tbody tr th:only-of-type {\n",
              "        vertical-align: middle;\n",
              "    }\n",
              "\n",
              "    .dataframe tbody tr th {\n",
              "        vertical-align: top;\n",
              "    }\n",
              "\n",
              "    .dataframe thead th {\n",
              "        text-align: right;\n",
              "    }\n",
              "</style>\n",
              "<table border=\"1\" class=\"dataframe\">\n",
              "  <thead>\n",
              "    <tr style=\"text-align: right;\">\n",
              "      <th></th>\n",
              "      <th>PhraseId</th>\n",
              "      <th>SentenceId</th>\n",
              "      <th>Phrase</th>\n",
              "      <th>Sentiment</th>\n",
              "      <th>phrase_clean</th>\n",
              "    </tr>\n",
              "  </thead>\n",
              "  <tbody>\n",
              "    <tr>\n",
              "      <th>1</th>\n",
              "      <td>2</td>\n",
              "      <td>1</td>\n",
              "      <td>A series of escapades demonstrating the adage that what is good for the goose</td>\n",
              "      <td>2</td>\n",
              "      <td>a series of escapade demonstrating the adage that what is good for the goose</td>\n",
              "    </tr>\n",
              "    <tr>\n",
              "      <th>2</th>\n",
              "      <td>3</td>\n",
              "      <td>1</td>\n",
              "      <td>A series</td>\n",
              "      <td>2</td>\n",
              "      <td>a series</td>\n",
              "    </tr>\n",
              "    <tr>\n",
              "      <th>3</th>\n",
              "      <td>4</td>\n",
              "      <td>1</td>\n",
              "      <td>A</td>\n",
              "      <td>2</td>\n",
              "      <td>a</td>\n",
              "    </tr>\n",
              "    <tr>\n",
              "      <th>4</th>\n",
              "      <td>5</td>\n",
              "      <td>1</td>\n",
              "      <td>series</td>\n",
              "      <td>2</td>\n",
              "      <td>series</td>\n",
              "    </tr>\n",
              "    <tr>\n",
              "      <th>5</th>\n",
              "      <td>6</td>\n",
              "      <td>1</td>\n",
              "      <td>of escapades demonstrating the adage that what is good for the goose</td>\n",
              "      <td>2</td>\n",
              "      <td>of escapade demonstrating the adage that what is good for the goose</td>\n",
              "    </tr>\n",
              "  </tbody>\n",
              "</table>\n",
              "</div>"
            ],
            "text/plain": [
              "   PhraseId  ...                                                                  phrase_clean\n",
              "1         2  ...  a series of escapade demonstrating the adage that what is good for the goose\n",
              "2         3  ...                                                                      a series\n",
              "3         4  ...                                                                             a\n",
              "4         5  ...                                                                        series\n",
              "5         6  ...           of escapade demonstrating the adage that what is good for the goose\n",
              "\n",
              "[5 rows x 5 columns]"
            ]
          },
          "metadata": {
            "tags": []
          },
          "execution_count": 120
        }
      ]
    },
    {
      "cell_type": "code",
      "metadata": {
        "id": "8gD35Pw1eegr",
        "colab_type": "code",
        "colab": {}
      },
      "source": [
        "\n",
        "import numpy as np\n",
        "import pandas as pd\n",
        "import matplotlib.pyplot as plt\n",
        "import seaborn as sns\n",
        "%matplotlib inline\n",
        "\n",
        "from nltk.tokenize import TweetTokenizer\n",
        "import datetime\n",
        "#import lightgbm as lgb\n",
        "from scipy import stats\n",
        "from scipy.sparse import hstack, csr_matrix\n",
        "from sklearn.model_selection import train_test_split, cross_val_score\n",
        "#from wordcloud import WordCloud\n",
        "from collections import Counter\n",
        "from nltk.corpus import stopwords\n",
        "from nltk.util import ngrams\n",
        "from sklearn.feature_extraction.text import TfidfVectorizer\n",
        "from sklearn.preprocessing import StandardScaler\n",
        "from sklearn.linear_model import LogisticRegression\n",
        "from sklearn.naive_bayes import MultinomialNB\n",
        "from sklearn.svm import LinearSVC\n",
        "from sklearn.multiclass import OneVsRestClassifier\n",
        "\n",
        "#data processing \n",
        "\n",
        "pd.set_option('max_colwidth',400)\n",
        "text = ' '.join(df_upsampled.loc[df_upsampled.Sentiment == 4, 'Phrase'].values)\n",
        "text_trigrams = [i for i in ngrams(text.split(), 3)]"
      ],
      "execution_count": 0,
      "outputs": []
    },
    {
      "cell_type": "code",
      "metadata": {
        "id": "z1F6Z7BYe1dV",
        "colab_type": "code",
        "outputId": "13857e60-5cd7-4730-d2e6-3319808902cc",
        "colab": {
          "base_uri": "https://localhost:8080/",
          "height": 550
        }
      },
      "source": [
        "Counter(text_trigrams).most_common(30)"
      ],
      "execution_count": 122,
      "outputs": [
        {
          "output_type": "execute_result",
          "data": {
            "text/plain": [
              "[(('one', 'of', 'the'), 1554),\n",
              " (('of', 'the', 'year'), 833),\n",
              " (('of', 'the', 'best'), 658),\n",
              " (('of', 'the', 'most'), 552),\n",
              " (('is', 'one', 'of'), 394),\n",
              " (('One', 'of', 'the'), 367),\n",
              " ((',', 'and', 'the'), 353),\n",
              " (('it', \"'s\", 'a'), 302),\n",
              " (('the', 'film', \"'s\"), 301),\n",
              " (('the', 'year', \"'s\"), 290),\n",
              " (('the', 'edge', 'of'), 283),\n",
              " (('of', 'your', 'seat'), 279),\n",
              " (('the', 'kind', 'of'), 277),\n",
              " (('.', 'is', 'a'), 274),\n",
              " (('It', \"'s\", 'a'), 273),\n",
              " ((',', 'the', 'film'), 269),\n",
              " (('a', 'movie', 'that'), 268),\n",
              " (('the', 'film', 'is'), 265),\n",
              " (('film', 'that', 'is'), 243),\n",
              " (('edge', 'of', 'your'), 243),\n",
              " (('as', 'one', 'of'), 243),\n",
              " ((',', 'this', 'is'), 240),\n",
              " ((',', 'it', \"'s\"), 214),\n",
              " (('a', 'film', 'that'), 207),\n",
              " (('as', 'well', 'as'), 204),\n",
              " (('some', 'of', 'the'), 196),\n",
              " (('of', 'the', 'film'), 195),\n",
              " ((',', 'funny', ','), 192),\n",
              " (('is', 'funny', ','), 192),\n",
              " (('in', 'its', 'own'), 189)]"
            ]
          },
          "metadata": {
            "tags": []
          },
          "execution_count": 122
        }
      ]
    },
    {
      "cell_type": "code",
      "metadata": {
        "id": "vnQv1859e-XQ",
        "colab_type": "code",
        "colab": {}
      },
      "source": [
        "tokenizer = TweetTokenizer()"
      ],
      "execution_count": 0,
      "outputs": []
    },
    {
      "cell_type": "code",
      "metadata": {
        "id": "VtaupGUQfCaA",
        "colab_type": "code",
        "colab": {}
      },
      "source": [
        "\n",
        "vectorizer = TfidfVectorizer(ngram_range=(1, 2), tokenizer=tokenizer.tokenize)\n",
        "full_text = list(df_upsampled['phrase_clean'].values)\n",
        "vectorizer.fit(full_text)\n",
        "df_upsampled_vectorized = vectorizer.transform(df_upsampled['phrase_clean'])\n"
      ],
      "execution_count": 0,
      "outputs": []
    },
    {
      "cell_type": "code",
      "metadata": {
        "id": "lCrX4x4BffBe",
        "colab_type": "code",
        "colab": {}
      },
      "source": [
        "\n",
        "y = df_upsampled['Sentiment']"
      ],
      "execution_count": 0,
      "outputs": []
    },
    {
      "cell_type": "code",
      "metadata": {
        "id": "fRg7PUiThzDA",
        "colab_type": "code",
        "outputId": "4b8dc389-c8d2-45f3-94a9-1375c7d731e3",
        "colab": {
          "base_uri": "https://localhost:8080/",
          "height": 141
        }
      },
      "source": [
        "#to perfrom the vectorisation and bring the data in vector form\n",
        "from keras.utils import to_categorical\n",
        "X = df_upsampled['phrase_clean']\n",
        "#Y = train['Sentiment']\n",
        "Y = to_categorical(df_upsampled['Sentiment'].values)\n",
        "print(Y)"
      ],
      "execution_count": 126,
      "outputs": [
        {
          "output_type": "stream",
          "text": [
            "[[0. 0. 1. 0. 0.]\n",
            " [0. 0. 1. 0. 0.]\n",
            " [0. 0. 1. 0. 0.]\n",
            " ...\n",
            " [1. 0. 0. 0. 0.]\n",
            " [1. 0. 0. 0. 0.]\n",
            " [1. 0. 0. 0. 0.]]\n"
          ],
          "name": "stdout"
        }
      ]
    },
    {
      "cell_type": "code",
      "metadata": {
        "id": "Xbdc4nP2h5ES",
        "colab_type": "code",
        "colab": {}
      },
      "source": [
        "\n",
        "from sklearn.model_selection import train_test_split\n",
        "X_train, X_val, Y_train, Y_val = train_test_split(X, Y, test_size=0.3, random_state=2003)"
      ],
      "execution_count": 0,
      "outputs": []
    },
    {
      "cell_type": "code",
      "metadata": {
        "id": "3XjU6-bmiLtj",
        "colab_type": "code",
        "outputId": "1c2c6bac-b688-4a88-a8e9-6fc50dac9f38",
        "colab": {
          "base_uri": "https://localhost:8080/",
          "height": 52
        }
      },
      "source": [
        "print(X_train.shape,Y_train.shape)\n",
        "print(X_val.shape,Y_val.shape)"
      ],
      "execution_count": 128,
      "outputs": [
        {
          "output_type": "stream",
          "text": [
            "(265707,) (265707, 5)\n",
            "(113875,) (113875, 5)\n"
          ],
          "name": "stdout"
        }
      ]
    },
    {
      "cell_type": "code",
      "metadata": {
        "id": "1tIzGF26iPUq",
        "colab_type": "code",
        "colab": {}
      },
      "source": [
        "from keras.preprocessing.text import Tokenizer\n",
        "from keras.preprocessing.sequence import pad_sequences\n",
        "from keras.utils import to_categorical"
      ],
      "execution_count": 0,
      "outputs": []
    },
    {
      "cell_type": "code",
      "metadata": {
        "id": "wuyDzFPDiSbF",
        "colab_type": "code",
        "outputId": "dc33f10b-edf5-42fa-b4d7-2d20ffae299a",
        "colab": {
          "base_uri": "https://localhost:8080/",
          "height": 35
        }
      },
      "source": [
        "#joining the different tokens and finding total number of words\n",
        "all_words=' '.join(X_train)\n",
        "all_words=word_tokenize(all_words)\n",
        "\n",
        "dist=FreqDist(all_words)\n",
        "\n",
        "num_unique_word=len(dist)\n",
        "num_unique_word\n",
        "#X_train.head()"
      ],
      "execution_count": 130,
      "outputs": [
        {
          "output_type": "execute_result",
          "data": {
            "text/plain": [
              "13731"
            ]
          },
          "metadata": {
            "tags": []
          },
          "execution_count": 130
        }
      ]
    },
    {
      "cell_type": "code",
      "metadata": {
        "id": "lp92ubJXiagE",
        "colab_type": "code",
        "outputId": "2f61b308-991e-457f-a2d6-629b717360d6",
        "colab": {
          "base_uri": "https://localhost:8080/",
          "height": 35
        }
      },
      "source": [
        "#finding the number of words for each phrase \n",
        "py_length=[]\n",
        "for text in X_train:\n",
        "    word=word_tokenize(text)\n",
        "  #  print(text)\n",
        "    l=len(word)\n",
        "    py_length.append(l)\n",
        "    \n",
        "MAX_REVIEW_LEN=np.max(py_length)\n",
        "MAX_REVIEW_LEN"
      ],
      "execution_count": 131,
      "outputs": [
        {
          "output_type": "execute_result",
          "data": {
            "text/plain": [
              "48"
            ]
          },
          "metadata": {
            "tags": []
          },
          "execution_count": 131
        }
      ]
    },
    {
      "cell_type": "code",
      "metadata": {
        "id": "Ov8LJSENihv8",
        "colab_type": "code",
        "colab": {}
      },
      "source": [
        "max_features = num_unique_word\n",
        "max_words = MAX_REVIEW_LEN\n",
        "batch_size = 128\n",
        "epochs = 5\n",
        "num_classes=5"
      ],
      "execution_count": 0,
      "outputs": []
    },
    {
      "cell_type": "code",
      "metadata": {
        "id": "-P_LbArhinlw",
        "colab_type": "code",
        "colab": {}
      },
      "source": [
        "from keras import backend as K\n",
        "\n",
        "def corelation(y_true, y_prediction):\n",
        "    \n",
        "    y_positive_prediction = K.round(K.clip(y_prediction, 0, 1))\n",
        "    y_prediction_neg = 1 - y_positive_prediction\n",
        "\n",
        "\n",
        "    y_positive = K.round(K.clip(y_true, 0, 1))\n",
        "    y_negative = 1 - y_positive\n",
        "\n",
        "\n",
        "    true_positive = K.sum(y_positive * y_positive_prediction)\n",
        "    true_negative = K.sum(y_negative * y_prediction_neg)\n",
        "\n",
        "\n",
        "    false_positive = K.sum(y_negative * y_positive_prediction)\n",
        "    false_negative = K.sum(y_positive * y_prediction_neg)\n",
        "\n",
        "\n",
        "    numer = (true_positive * true_negative - false_positive * false_negative)\n",
        "    denom = K.sqrt((true_positive + false_positive) * (true_positive + false_negative) * (true_negative + false_positive) * (true_negative + false_negative))\n",
        " \n",
        " \n",
        "    return numer / (denom + K.epsilon())\n",
        "\n",
        "def recall(y_true, y_prediction):\n",
        "    #Recall metric.\n",
        "    #Computes the recall, a metric for multi-label classification of how many relevant items are selected.\n",
        "    \n",
        "    true_positives = K.sum(K.round(K.clip(y_true * y_prediction, 0, 1)))\n",
        "    possible_positives = K.sum(K.round(K.clip(y_true, 0, 1)))\n",
        "    recall = true_positives / (possible_positives + K.epsilon())\n",
        "    return recall\n",
        "\n",
        "\n",
        "def precision(y_true, y_prediction):\n",
        "    #Precision metric.\n",
        "    \n",
        "    true_positives = K.sum(K.round(K.clip(y_true * y_prediction, 0, 1)))\n",
        "    predicted_positives = K.sum(K.round(K.clip(y_prediction, 0, 1)))\n",
        "    precision = true_positives / (predicted_positives + K.epsilon())\n",
        "    return precision\n",
        "\n",
        "\n",
        "def f1(y_true, y_prediction):\n",
        "    def recall(y_true, y_prediction):\n",
        "        #Recall metric.\n",
        "        \n",
        "        true_positives = K.sum(K.round(K.clip(y_true * y_prediction, 0, 1)))\n",
        "        possible_positives = K.sum(K.round(K.clip(y_true, 0, 1)))\n",
        "        recall = true_positives / (possible_positives + K.epsilon())\n",
        "        return recall\n",
        "\n",
        "    def precision(y_true, y_prediction):\n",
        "        #Precision metric.\n",
        "        #Computes the precision, a metric for multi-label classification of how many selected items are relevant.\n",
        "        \n",
        "        true_positives = K.sum(K.round(K.clip(y_true * y_prediction, 0, 1)))\n",
        "        predicted_positives = K.sum(K.round(K.clip(y_prediction, 0, 1)))\n",
        "        precision = true_positives / (predicted_positives + K.epsilon())\n",
        "        return precision\n",
        "\n",
        "    recall = recall(y_true, y_prediction)\n",
        "    precision = precision(y_true, y_prediction)\n",
        "    \n",
        "    return 2*((precision*recall)/(precision+recall+K.epsilon()))\n",
        "\n"
      ],
      "execution_count": 0,
      "outputs": []
    },
    {
      "cell_type": "code",
      "metadata": {
        "id": "vS0GJLR5ipBn",
        "colab_type": "code",
        "colab": {}
      },
      "source": [
        "from tensorflow.python.keras.models import Sequential\n",
        "from tensorflow.python.keras.layers import Dense, GRU, Embedding\n",
        "from tensorflow.python.keras.optimizers import Adam\n",
        "from tensorflow.python.keras.preprocessing.text import Tokenizer\n",
        "from tensorflow.python.keras.preprocessing.sequence import pad_sequences"
      ],
      "execution_count": 0,
      "outputs": []
    },
    {
      "cell_type": "code",
      "metadata": {
        "id": "65FFl1gAiukt",
        "colab_type": "code",
        "colab": {}
      },
      "source": [
        "#tokenizing the words\n",
        "tokenizer = Tokenizer(num_words=max_features)\n",
        "tokenizer.fit_on_texts(X_train)\n",
        "X_train = tokenizer.texts_to_sequences(X_train)\n",
        "X_val = tokenizer.texts_to_sequences(X_val)\n",
        "\n",
        "#X_test = tokenizer.texts_to_sequences(X_train)\n",
        "#X_test"
      ],
      "execution_count": 0,
      "outputs": []
    },
    {
      "cell_type": "code",
      "metadata": {
        "id": "jjo5T2zdkHLa",
        "colab_type": "code",
        "colab": {}
      },
      "source": [
        "from keras.preprocessing import sequence,text\n",
        "from keras.preprocessing.text import Tokenizer\n",
        "from keras.models import Sequential\n",
        "from keras.preprocessing.sequence import pad_sequences"
      ],
      "execution_count": 0,
      "outputs": []
    },
    {
      "cell_type": "code",
      "metadata": {
        "id": "kAdyW282dzfY",
        "colab_type": "code",
        "colab": {}
      },
      "source": [
        "#sequence padding for the model\n",
        "from keras.preprocessing import sequence,text\n",
        "from keras.preprocessing.text import Tokenizer\n",
        "from keras.models import Sequential\n",
        "from keras.preprocessing.sequence import pad_sequences\n",
        "X_train = sequence.pad_sequences(X_train, maxlen=max_words)\n",
        "X_val = sequence.pad_sequences(X_val, maxlen=max_words)\n",
        "#X_test = sequence.pad_sequences(X_test, maxlen=max_words)\n",
        "#print(X_train.shape,X_val.shape)\n",
        "#X_test"
      ],
      "execution_count": 0,
      "outputs": []
    },
    {
      "cell_type": "code",
      "metadata": {
        "id": "47s_BCx_kYO1",
        "colab_type": "code",
        "colab": {}
      },
      "source": [
        "from keras.preprocessing import sequence,text\n",
        "from keras.preprocessing.text import Tokenizer\n",
        "from keras.models import Sequential\n",
        "from keras.layers import Dense,Dropout,Embedding,LSTM,Conv1D,GlobalMaxPooling1D,Flatten,MaxPooling1D,GRU,SpatialDropout1D,Bidirectional\n",
        "from keras.callbacks import EarlyStopping\n",
        "from keras.utils import to_categorical\n",
        "from keras.losses import categorical_crossentropy\n",
        "from keras.optimizers import Adam\n",
        "from sklearn.model_selection import train_test_split\n",
        "from sklearn.metrics import accuracy_score,confusion_matrix,classification_report,f1_score\n",
        "import matplotlib.pyplot as plt\n",
        "from keras.layers import Input, Dense, Embedding, Flatten\n",
        "from keras.layers import SpatialDropout1D\n",
        "from keras.layers.convolutional import Conv1D, MaxPooling1D\n",
        "from keras.layers.normalization import BatchNormalization\n",
        "from keras.models import Sequential\n",
        "import keras\n"
      ],
      "execution_count": 0,
      "outputs": []
    },
    {
      "cell_type": "code",
      "metadata": {
        "id": "8aySHByIkgYc",
        "colab_type": "code",
        "outputId": "ecece092-5857-452e-a8a6-bd61f22042d0",
        "colab": {
          "base_uri": "https://localhost:8080/",
          "height": 479
        }
      },
      "source": [
        "model2 = Sequential()\n",
        "\n",
        "# Input / Embdedding\n",
        "model2.add(Embedding(max_features, 150, input_length=max_words))\n",
        "\n",
        "# CNN\n",
        "model2.add(SpatialDropout1D(0.2))\n",
        "\n",
        "model2.add(Conv1D(64, kernel_size=3, padding='same', activation='relu'))\n",
        "model2.add(MaxPooling1D(pool_size=2))\n",
        "\n",
        "model2.add(BatchNormalization())\n",
        "model2.add(Conv1D(32, kernel_size=3, padding='same', activation='relu'))\n",
        "model2.add(MaxPooling1D(pool_size=2))\n",
        "\n",
        "model2.add(Flatten())\n",
        "\n",
        "# Output layer\n",
        "model2.add(Dense(5, activation='softmax'))\n",
        "model2.summary()\n"
      ],
      "execution_count": 139,
      "outputs": [
        {
          "output_type": "stream",
          "text": [
            "Model: \"sequential_8\"\n",
            "_________________________________________________________________\n",
            "Layer (type)                 Output Shape              Param #   \n",
            "=================================================================\n",
            "embedding_8 (Embedding)      (None, 48, 150)           2059650   \n",
            "_________________________________________________________________\n",
            "spatial_dropout1d_8 (Spatial (None, 48, 150)           0         \n",
            "_________________________________________________________________\n",
            "conv1d_15 (Conv1D)           (None, 48, 64)            28864     \n",
            "_________________________________________________________________\n",
            "max_pooling1d_15 (MaxPooling (None, 24, 64)            0         \n",
            "_________________________________________________________________\n",
            "batch_normalization_8 (Batch (None, 24, 64)            256       \n",
            "_________________________________________________________________\n",
            "conv1d_16 (Conv1D)           (None, 24, 32)            6176      \n",
            "_________________________________________________________________\n",
            "max_pooling1d_16 (MaxPooling (None, 12, 32)            0         \n",
            "_________________________________________________________________\n",
            "flatten_8 (Flatten)          (None, 384)               0         \n",
            "_________________________________________________________________\n",
            "dense_8 (Dense)              (None, 5)                 1925      \n",
            "=================================================================\n",
            "Total params: 2,096,871\n",
            "Trainable params: 2,096,743\n",
            "Non-trainable params: 128\n",
            "_________________________________________________________________\n"
          ],
          "name": "stdout"
        }
      ]
    },
    {
      "cell_type": "code",
      "metadata": {
        "id": "DkRQUlWKkroK",
        "colab_type": "code",
        "outputId": "975434dd-de03-4300-9ed9-bbccb4f5eac6",
        "colab": {
          "base_uri": "https://localhost:8080/",
          "height": 232
        }
      },
      "source": [
        "from __future__ import absolute_import, division, print_function, unicode_literals\n",
        "\n",
        "import tensorflow as tf\n",
        "\n",
        "\n",
        "\n",
        "\n",
        "model2.compile(loss='categorical_crossentropy', optimizer='adam', metrics=['accuracy',precision,recall, f1])\n",
        "\n",
        "history = model2.fit(X_train, Y_train, validation_data=(X_val, Y_val), epochs=epochs, batch_size=batch_size, verbose=1)\n",
        "\n"
      ],
      "execution_count": 140,
      "outputs": [
        {
          "output_type": "stream",
          "text": [
            "Train on 265707 samples, validate on 113875 samples\n",
            "Epoch 1/5\n",
            "265707/265707 [==============================] - 18s 67us/step - loss: 0.8610 - acc: 0.6498 - precision: 0.7213 - recall: 0.5397 - f1: 0.6023 - val_loss: 0.6609 - val_acc: 0.7376 - val_precision: 0.7669 - val_recall: 0.6926 - val_f1: 0.7277\n",
            "Epoch 2/5\n",
            "265707/265707 [==============================] - 17s 64us/step - loss: 0.5848 - acc: 0.7722 - precision: 0.7990 - recall: 0.7361 - f1: 0.7661 - val_loss: 0.5671 - val_acc: 0.7848 - val_precision: 0.8060 - val_recall: 0.7543 - val_f1: 0.7792\n",
            "Epoch 3/5\n",
            "265707/265707 [==============================] - 17s 64us/step - loss: 0.4883 - acc: 0.8136 - precision: 0.8328 - recall: 0.7887 - f1: 0.8100 - val_loss: 0.5196 - val_acc: 0.8085 - val_precision: 0.8241 - val_recall: 0.7865 - val_f1: 0.8048\n",
            "Epoch 4/5\n",
            "265707/265707 [==============================] - 17s 64us/step - loss: 0.4278 - acc: 0.8384 - precision: 0.8537 - recall: 0.8199 - f1: 0.8364 - val_loss: 0.4951 - val_acc: 0.8231 - val_precision: 0.8355 - val_recall: 0.8079 - val_f1: 0.8214\n",
            "Epoch 5/5\n",
            "265707/265707 [==============================] - 17s 64us/step - loss: 0.3856 - acc: 0.8561 - precision: 0.8689 - recall: 0.8411 - f1: 0.8547 - val_loss: 0.4867 - val_acc: 0.8318 - val_precision: 0.8425 - val_recall: 0.8190 - val_f1: 0.8306\n"
          ],
          "name": "stdout"
        }
      ]
    },
    {
      "cell_type": "code",
      "metadata": {
        "id": "e_popOrproSh",
        "colab_type": "code",
        "colab": {}
      },
      "source": [
        "def print_metrics(accuracy, f1_score, precision, recall):\n",
        "  print('CNN MODEL PERFORMANCE')\n",
        "  print('Accuracy: ', np.round(accuracy, 4))\n",
        "  print('Precision: ', np.round(precision, 4))\n",
        "  print('Recall: ', np.round(recall, 4))\n",
        "  print('F1 Score: ', np.round(f1_score, 4))\n",
        "  print('\\n')"
      ],
      "execution_count": 0,
      "outputs": []
    },
    {
      "cell_type": "code",
      "metadata": {
        "id": "5qK_uMyVr6Ks",
        "colab_type": "code",
        "colab": {
          "base_uri": "https://localhost:8080/",
          "height": 159
        },
        "outputId": "b7a93296-0411-46d1-962b-7ed790720549"
      },
      "source": [
        "loss, accuracy, f1_score, precision, recall = model2.evaluate(X_val, Y_val)\n",
        "print_metrics(accuracy, f1_score, precision, recall)"
      ],
      "execution_count": 142,
      "outputs": [
        {
          "output_type": "stream",
          "text": [
            "113875/113875 [==============================] - 7s 64us/step\n",
            "CNN MODEL PERFORMANCE\n",
            "Accuracy:  0.8318\n",
            "Precision:  0.819\n",
            "Recall:  0.8304\n",
            "F1 Score:  0.8425\n",
            "\n",
            "\n"
          ],
          "name": "stdout"
        }
      ]
    },
    {
      "cell_type": "code",
      "metadata": {
        "id": "2nlIw4I_sUgy",
        "colab_type": "code",
        "colab": {
          "base_uri": "https://localhost:8080/",
          "height": 301
        },
        "outputId": "396958c8-7d1d-44b7-9345-cd64c6ba9a93"
      },
      "source": [
        "plt.plot(history.history['acc'])\n",
        "plt.plot(history.history['val_acc'])\n",
        "plt.title('Accuracy')\n",
        "plt.ylabel('Accuracy')\n",
        "plt.xlabel('Epoch')\n",
        "plt.legend(['train', 'test'],fancybox=True, framealpha=1, shadow=True, borderpad=1, facecolor='white')\n",
        "plt.savefig('accuracy.png')\n",
        "#plt.show()\n",
        "#plt.savefig('accuracy.png')"
      ],
      "execution_count": 143,
      "outputs": [
        {
          "output_type": "display_data",
          "data": {
            "image/png": "[encoded data removed]",
            "text/plain": [
              "<Figure size 432x288 with 1 Axes>"
            ]
          },
          "metadata": {
            "tags": []
          }
        }
      ]
    },
    {
      "cell_type": "code",
      "metadata": {
        "id": "dGXxcKDFtVdN",
        "colab_type": "code",
        "colab": {
          "base_uri": "https://localhost:8080/",
          "height": 285
        },
        "outputId": "d5fed9ea-e68b-4852-d912-093bd51ce794"
      },
      "source": [
        "# Get training and test loss histories\n",
        "training_loss = history.history['loss']\n",
        "test_loss = history.history['val_loss']\n",
        "\n",
        "# Create count of the number of epochs\n",
        "epoch_count = range(1, len(training_loss) + 1)\n",
        "\n",
        "# Visualize loss history\n",
        "plt.plot(epoch_count, training_loss, 'r')\n",
        "plt.plot(epoch_count, test_loss, 'b-')\n",
        "plt.legend(['Training Loss', 'Test Loss'],fancybox=True, framealpha=1, shadow=True, borderpad=1, facecolor='white')\n",
        "plt.xlabel('Epoch')\n",
        "plt.ylabel('Loss')\n",
        "plt.savefig('actual_loss')\n",
        "plt.show()"
      ],
      "execution_count": 144,
      "outputs": [
        {
          "output_type": "display_data",
          "data": {
            "image/png": "[encoded data removed]",
            "text/plain": [
              "<Figure size 432x288 with 1 Axes>"
            ]
          },
          "metadata": {
            "tags": []
          }
        }
      ]
    },
    {
      "cell_type": "code",
      "metadata": {
        "id": "o8em19geur4K",
        "colab_type": "code",
        "colab": {}
      },
      "source": [
        "#saving model to disk\n",
        "model2.save(\"1106937_1dconv_reg.h5\")"
      ],
      "execution_count": 0,
      "outputs": []
    }
  ]
}